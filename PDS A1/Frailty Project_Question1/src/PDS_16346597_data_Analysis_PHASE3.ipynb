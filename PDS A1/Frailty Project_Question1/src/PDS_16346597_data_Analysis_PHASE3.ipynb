{
  "nbformat": 4,
  "nbformat_minor": 0,
  "metadata": {
    "colab": {
      "provenance": [],
      "mount_file_id": "1qMt7znXD8gGf43qyzNEnNEt_bDqZwi8J",
      "authorship_tag": "ABX9TyNETEc2eyHxjhyOs6Fx8pkT",
      "include_colab_link": true
    },
    "kernelspec": {
      "name": "python3",
      "display_name": "Python 3"
    },
    "language_info": {
      "name": "python"
    }
  },
  "cells": [
    {
      "cell_type": "markdown",
      "metadata": {
        "id": "view-in-github",
        "colab_type": "text"
      },
      "source": [
        "<a href=\"https://colab.research.google.com/github/craks31/16346597_pds_a1/blob/main/PDS%20A1/Frailty%20Project/src/PDS_16346597_data_Analysis_PHASE3.ipynb\" target=\"_parent\"><img src=\"https://colab.research.google.com/assets/colab-badge.svg\" alt=\"Open In Colab\"/></a>"
      ]
    },
    {
      "cell_type": "code",
      "execution_count": 2,
      "metadata": {
        "id": "SnO4B_G3TPvX"
      },
      "outputs": [],
      "source": [
        "import statsmodels.api as sm\n",
        "import pandas as pd"
      ]
    },
    {
      "cell_type": "code",
      "source": [
        "# Specify the file path to your CSV file\n",
        "csv_file_path = '/content/drive/Othercomputers/My PC/PDS A1/Frailty Project/clean_data_PHASE2/modified_frailty_data.csv'\n",
        "\n",
        "# Use pandas to read the CSV file into a DataFrame\n",
        "df = pd.read_csv(csv_file_path)\n",
        "\n",
        "# Add a constant term for the intercept\n",
        "df['Intercept'] = 1\n",
        "\n",
        "# Define independent variables (Weight and GripStrength)\n",
        "X = df[['Intercept', 'Weight', 'GripStrength']]\n",
        "\n",
        "# Define dependent variable (Frailty)\n",
        "y = df['Frailty']\n",
        "\n",
        "# Fit logistic regression model\n",
        "model = sm.Logit(y, X)\n",
        "result = model.fit()\n",
        "\n",
        "\n",
        "# After fitting the logistic regression model, you can extract p-values like this:\n",
        "p_values = result.pvalues\n",
        "\n",
        "# Specify the file path for the output TXT file\n",
        "output_txt_file = '/content/drive/Othercomputers/My PC/PDS A1/Frailty Project/results_PHASE3/results.txt'\n",
        "resultFile = open(output_txt_file, 'w')\n",
        "resultFile.write(str(result.summary()))\n",
        "\n",
        "# Print the p-values for each variable\n",
        "resultFile.write(str(\"\\nP-values:\"))\n",
        "resultFile.write(str(p_values))\n",
        "\n",
        "# if p-value is less than 0.05 then the independent variables are significant in determining the Frailty\n",
        "resultFile.write(\"\\nif p-value is less than 0.05 then the independent variables are significant in determining the Frailty\".upper())\n",
        "if(p_values.Weight < 0.05):\n",
        "  resultFile.write(\"\\nWeight is significant in determining the Frailty for given Data Set\")\n",
        "  print(\"Weight is significant in determining the Frailty for given Data Set\")\n",
        "else:\n",
        "  resultFile.write(\"\\nWeight is not significant in determining the Frailty for given Data Set\")\n",
        "  print(\"Weight is not significant in determining the Frailty for given Data Set\")\n",
        "if(p_values.GripStrength < 0.05):\n",
        "  resultFile.write(\"\\nGripStrength is significant in determining the Frailty for given Data Set\")\n",
        "  print(\"GripStrength is significant in determining the Frailty for given Data Set\")\n",
        "else:\n",
        "  resultFile.write(\"\\nGripStrength is not significant in determining the Frailty for given Data Set\")\n",
        "  print(\"GripStrength is not significant in determining the Frailty for given Data Set\")\n",
        "\n",
        "resultFile.close()\n"
      ],
      "metadata": {
        "colab": {
          "base_uri": "https://localhost:8080/"
        },
        "id": "6VsOaiXwT6D6",
        "outputId": "0c1af32b-1127-4a07-b031-eda657642e58"
      },
      "execution_count": 3,
      "outputs": [
        {
          "output_type": "stream",
          "name": "stdout",
          "text": [
            "Optimization terminated successfully.\n",
            "         Current function value: 0.287287\n",
            "         Iterations 8\n",
            "Weight is not significant in determining the Frailty for given Data Set\n",
            "GripStrength is not significant in determining the Frailty for given Data Set\n"
          ]
        }
      ]
    }
  ]
}
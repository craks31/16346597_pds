{
  "nbformat": 4,
  "nbformat_minor": 0,
  "metadata": {
    "colab": {
      "provenance": [],
      "mount_file_id": "1f1DUtafNOP5YyTk_HUMP07p35cq8XjN6",
      "authorship_tag": "ABX9TyOWikHIQRlLIb/xhjCYIDzq",
      "include_colab_link": true
    },
    "kernelspec": {
      "name": "python3",
      "display_name": "Python 3"
    },
    "language_info": {
      "name": "python"
    }
  },
  "cells": [
    {
      "cell_type": "markdown",
      "metadata": {
        "id": "view-in-github",
        "colab_type": "text"
      },
      "source": [
        "<a href=\"https://colab.research.google.com/github/craks31/16346597_pds_a1/blob/main/PDS%20A1/StudentPerformance%20Project/src/dataClean.ipynb\" target=\"_parent\"><img src=\"https://colab.research.google.com/assets/colab-badge.svg\" alt=\"Open In Colab\"/></a>"
      ]
    },
    {
      "cell_type": "code",
      "execution_count": null,
      "metadata": {
        "id": "yzAEtBDAjumn"
      },
      "outputs": [],
      "source": [
        "import pandas as pd\n",
        "\n",
        "# Specify the file path to your CSV file\n",
        "raw_file_path = '/content/drive/Othercomputers/My PC/PDS A1/StudentPerformance Project/raw_data_PHASE1/StudentsPerformance.csv'\n",
        "\n",
        "# Use pandas to read the CSV file into a DataFrame\n",
        "df = pd.read_csv(raw_file_path)\n",
        "\n",
        "# Remove the \"parental level of education\" column as it doesn't have much information (none) for all rows.\n",
        "df = df.drop('test preparation course', axis=1)\n",
        "\n",
        "\n",
        "# Specify the file path for the output CSV file\n",
        "modified_csv_file = '/content/drive/Othercomputers/My PC/PDS A1/StudentPerformance Project/clean_data_PHASE2/modified_studentPerformance_data.csv'\n",
        "\n",
        "df.to_csv(modified_csv_file, index=True)\n"
      ]
    }
  ]
}
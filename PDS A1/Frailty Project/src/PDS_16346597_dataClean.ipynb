{
  "nbformat": 4,
  "nbformat_minor": 0,
  "metadata": {
    "colab": {
      "provenance": [],
      "mount_file_id": "18-rMwTbiIPO-8rUCCFs7fMElDKQkSUCW",
      "authorship_tag": "ABX9TyNkOwp7ldABytifOtvM6vJa",
      "include_colab_link": true
    },
    "kernelspec": {
      "name": "python3",
      "display_name": "Python 3"
    },
    "language_info": {
      "name": "python"
    }
  },
  "cells": [
    {
      "cell_type": "markdown",
      "metadata": {
        "id": "view-in-github",
        "colab_type": "text"
      },
      "source": [
        "<a href=\"https://colab.research.google.com/github/craks31/16346597_pds_a1/blob/main/PDS%20A1/Frailty%20Project/src/PDS_16346597.ipynb\" target=\"_parent\"><img src=\"https://colab.research.google.com/assets/colab-badge.svg\" alt=\"Open In Colab\"/></a>"
      ]
    },
    {
      "cell_type": "code",
      "source": [
        "import pandas as pd\n",
        "\n",
        "# Specify the file path to your CSV file\n",
        "raw_file_path = '/content/drive/Othercomputers/My PC/PDS A1/Frailty Project/raw_data/raw_fratility_data.csv'\n",
        "\n",
        "# Use pandas to read the CSV file into a DataFrame\n",
        "df = pd.read_csv(raw_file_path)\n",
        "\n",
        "# Encode the \"Frailty\" column to 0 (No) and 1 (Yes)\n",
        "df['Frailty'] = df['Frailty'].map({'N': 0, 'Y': 1})\n",
        "\n",
        "# Convert the \"Weight\" column from pounds to kilograms\n",
        "lbs_to_kg_converter = 0.45359237\n",
        "df['Weight'] = df['Weight'] * lbs_to_kg_converter\n",
        "\n",
        "# Print the modified DataFrame\n",
        "print(df)\n",
        "\n",
        "# Specify the file path for the output CSV file\n",
        "modified_csv_file = '/content/drive/Othercomputers/My PC/PDS A1/Frailty Project/clean_data/modified_frailty_data.csv'\n",
        "\n",
        "df.to_csv(modified_csv_file, index=True)\n"
      ],
      "metadata": {
        "colab": {
          "base_uri": "https://localhost:8080/"
        },
        "id": "prWYBBOF6n3C",
        "outputId": "ce88848a-eb8e-4c19-b5f3-31d7268295fd"
      },
      "execution_count": 8,
      "outputs": [
        {
          "output_type": "stream",
          "name": "stdout",
          "text": [
            "   Height     Weight  Age  Grip Strength  Frailty\n",
            "0    65.8  50.802345   30             30        0\n",
            "1    71.5  61.688562   19             31        0\n",
            "2    69.4  69.399633   45             29        0\n",
            "3    68.2  64.410117   22             28        1\n",
            "4    67.8  65.317301   29             24        1\n",
            "5    68.7  55.791862   50             26        0\n",
            "6    69.8  63.956524   51             22        1\n",
            "7    70.1  61.688562   23             20        1\n",
            "8    67.9  50.802345   17             19        0\n",
            "9    66.8  54.431084   39             31        0\n"
          ]
        }
      ]
    }
  ]
}
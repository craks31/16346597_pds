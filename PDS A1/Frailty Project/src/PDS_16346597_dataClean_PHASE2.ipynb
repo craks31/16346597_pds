{
  "nbformat": 4,
  "nbformat_minor": 0,
  "metadata": {
    "colab": {
      "provenance": [],
      "mount_file_id": "1l8ni0DD-L5Zz4RQ8Yu-QwVjI_EoJg9Z-",
      "authorship_tag": "ABX9TyM2F6jcqc5z++nVqOdHXvj3",
      "include_colab_link": true
    },
    "kernelspec": {
      "name": "python3",
      "display_name": "Python 3"
    },
    "language_info": {
      "name": "python"
    }
  },
  "cells": [
    {
      "cell_type": "markdown",
      "metadata": {
        "id": "view-in-github",
        "colab_type": "text"
      },
      "source": [
        "<a href=\"https://colab.research.google.com/github/craks31/16346597_pds_a1/blob/main/PDS%20A1/Frailty%20Project/src/PDS_16346597_dataClean_PHASE2.ipynb\" target=\"_parent\"><img src=\"https://colab.research.google.com/assets/colab-badge.svg\" alt=\"Open In Colab\"/></a>"
      ]
    },
    {
      "cell_type": "code",
      "execution_count": 1,
      "metadata": {
        "id": "zEnFmxVz3WWg",
        "colab": {
          "base_uri": "https://localhost:8080/"
        },
        "outputId": "ee837c92-d866-4b86-fec7-695d2a667c34"
      },
      "outputs": [
        {
          "output_type": "stream",
          "name": "stdout",
          "text": [
            "   Height     Weight  Age  GripStrength  Frailty\n",
            "0    65.8  50.802345   30            30        0\n",
            "1    71.5  61.688562   19            31        0\n",
            "2    69.4  69.399633   45            29        0\n",
            "3    68.2  64.410117   22            28        1\n",
            "4    67.8  65.317301   29            24        1\n",
            "5    68.7  55.791862   50            26        0\n",
            "6    69.8  63.956524   51            22        1\n",
            "7    70.1  61.688562   23            20        1\n",
            "8    67.9  50.802345   17            19        0\n",
            "9    66.8  54.431084   39            31        0\n"
          ]
        }
      ],
      "source": [
        "import pandas as pd\n",
        "\n",
        "# Specify the file path to your CSV file\n",
        "raw_file_path = '/content/drive/Othercomputers/My PC/PDS A1/Frailty Project/raw_data_PHASE1/raw_fratility_data.csv'\n",
        "\n",
        "# Use pandas to read the CSV file into a DataFrame\n",
        "df = pd.read_csv(raw_file_path)\n",
        "\n",
        "# Encode the \"Frailty\" column to 0 (No) and 1 (Yes)\n",
        "df['Frailty'] = df['Frailty'].map({'N': 0, 'Y': 1})\n",
        "\n",
        "# Convert the \"Weight\" column from pounds to kilograms\n",
        "lbs_to_kg_converter = 0.45359237\n",
        "df['Weight'] = df['Weight'] * lbs_to_kg_converter\n",
        "\n",
        "# Print the modified DataFrame\n",
        "print(df)\n",
        "\n",
        "# Specify the file path for the output CSV file\n",
        "modified_csv_file = '/content/drive/Othercomputers/My PC/PDS A1/Frailty Project/clean_data_PHASE2/modified_frailty_data.csv'\n",
        "\n",
        "df.to_csv(modified_csv_file, index=True)\n"
      ]
    },
    {
      "cell_type": "code",
      "source": [],
      "metadata": {
        "id": "3p0so4g63hzr"
      },
      "execution_count": null,
      "outputs": []
    }
  ]
}